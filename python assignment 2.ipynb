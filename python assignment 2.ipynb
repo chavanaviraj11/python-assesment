{
 "cells": [
  {
   "cell_type": "code",
   "execution_count": 17,
   "metadata": {},
   "outputs": [
    {
     "name": "stdout",
     "output_type": "stream",
     "text": [
      "addition of all values is 11111\n"
     ]
    }
   ],
   "source": [
    "#python assignment 2\n",
    "#task 1-1.1: Write a Python Program to implement your own myreduce() function which works exactly like Python's built-in function reduce()\n",
    "\n",
    "def likereduce(a,b):\n",
    "    c=b[0]\n",
    "    \n",
    "    for i in range(1,len(b)):\n",
    "         c= a(c,b[i])\n",
    "    return c \n",
    "\n",
    "def do_sum(x1, x2): \n",
    "    return x1 + x2\n",
    "\n",
    "q=[10,100,1000,10000,1]\n",
    "\n",
    "print(\"addition of all values is\",likereduce(do_sum,q))"
   ]
  },
  {
   "cell_type": "code",
   "execution_count": 21,
   "metadata": {},
   "outputs": [
    {
     "name": "stdout",
     "output_type": "stream",
     "text": [
      "[4, 6, 12]\n"
     ]
    }
   ],
   "source": [
    "#task 1-1.2: Write a Python program to implement your own myfilter() function which works exactly like Python's built-in function filter()\n",
    "\n",
    "\n",
    "a = list()\n",
    "b = list()\n",
    "def myfilter(x, y):\n",
    "    for i in y:\n",
    "        a.append(x(i))\n",
    "    \n",
    "    for i in range(0, len(a)):\n",
    "        if a[i] == False:\n",
    "            continue\n",
    "        else:\n",
    "            b.append(a[i])\n",
    "    return b\n",
    "  \n",
    "def pos(i):\n",
    "    if i>= 0:\n",
    "        return i\n",
    "    else:\n",
    "        return False\n",
    "\n",
    "tes=[-1,4,6,-4,-8,-2,12,-15]\n",
    "print(myfilter(pos,tes))"
   ]
  },
  {
   "cell_type": "code",
   "execution_count": 58,
   "metadata": {},
   "outputs": [
    {
     "name": "stdout",
     "output_type": "stream",
     "text": [
      "['A', 'C', 'A', 'D', 'G', 'I', 'L', 'D']\n",
      "['x', 'xx', 'xxx', 'xxxx', 'y', 'yy', 'yyy', 'yyyy', 'z', 'zz', 'zzz', 'zzzz']\n",
      "['x', 'y', 'z', 'xx', 'yy', 'zz', 'xxx', 'yyy', 'zzz', 'xxxx', 'yyyy', 'zzzz']\n",
      "[[2], [3], [4], [3], [4], [5], [4], [5], [6]]\n",
      "[[2, 3, 4, 5], [3, 4, 5, 6], [4, 5, 6, 7], [5, 6, 7, 8]]\n",
      "[(1, 1), (2, 1), (3, 1), (1, 2), (2, 2), (3, 2), (1, 3), (2, 3), (3, 3)]\n"
     ]
    }
   ],
   "source": [
    "#task 1-2: Implement List comprehensions to produce the following lists.\n",
    "a= [i for i in \"ACADGILD\"]\n",
    "print(a)\n",
    "\n",
    "b= [i*j for i in [\"x\",\"y\",'z']  for j in range(1,5)]\n",
    "print(b)\n",
    "\n",
    "c= [i*j for j in range(1,5)  for i in [\"x\",\"y\",'z']]\n",
    "print(c)\n",
    "\n",
    "d = [[i + j] for j in range(0,3) for i in range(2, 5)]\n",
    "print(d)\n",
    "\n",
    "e = [[i + j for j in [0,1,2,3,]] for i in range(2, 6)]\n",
    "print(e)\n",
    "\n",
    "f= [(i,j) for j in range(1,4) for i in range(1,4)]\n",
    "print(f)"
   ]
  },
  {
   "cell_type": "code",
   "execution_count": 74,
   "metadata": {},
   "outputs": [
    {
     "data": {
      "text/plain": [
       "['python', 'banana']"
      ]
     },
     "execution_count": 74,
     "metadata": {},
     "output_type": "execute_result"
    }
   ],
   "source": [
    "#task 1-3: Implement a function longestWord() that takes a list of words and returns the longest one.\n",
    "\n",
    "def longestword():\n",
    "    m=[]\n",
    "    ints=[]\n",
    "    words = ['apple','five','Three','python','banana']\n",
    "    for i in range(len(words)):\n",
    "        ints.append(len(words[i]))\n",
    "        a = max(ints)\n",
    "        \n",
    "    for j in range(len(words)):\n",
    "        if a == len (words[j]):\n",
    "            m.append(words[j])\n",
    "    return m\n",
    "\n",
    "longestword()"
   ]
  },
  {
   "cell_type": "code",
   "execution_count": 11,
   "metadata": {},
   "outputs": [
    {
     "name": "stdout",
     "output_type": "stream",
     "text": [
      "91.12077490204959\n"
     ]
    }
   ],
   "source": [
    "#task 2-1.1 Write a Python Program(with class concepts) to find the area of the triangle.\n",
    "\n",
    "class baseclass:\n",
    "     def __init__(self, n):\n",
    "        self.numside = n\n",
    "        \n",
    "class areatriangle(baseclass):\n",
    "\n",
    "    def __init__(self, sidelen):\n",
    "        baseclass.__init__(self, 3 )\n",
    "        self.sidelen = sidelen\n",
    "        \n",
    "    def tarea(self):\n",
    "        a,b,c= self.sidelen\n",
    "        s=(a+b+c)/2\n",
    "        return (s*(s-a)*(s-b)*(s-c))**0.5\n",
    "    \n",
    "i= areatriangle([7.5,24.3,25.5])\n",
    "print(i.tarea())"
   ]
  },
  {
   "cell_type": "code",
   "execution_count": 27,
   "metadata": {},
   "outputs": [
    {
     "data": {
      "text/plain": [
       "['omae wa mou shinderu', 'chai biscuit']"
      ]
     },
     "execution_count": 27,
     "metadata": {},
     "output_type": "execute_result"
    }
   ],
   "source": [
    "#task 2-1.2 Write a function filter_long_words() that takes a list of words and an integer n and returns the list of words that are longer than n.\n",
    "\n",
    "a=[]\n",
    "def filter_long_words(words, n):\n",
    "    for i in range(len(words)):\n",
    "        if  n<len(words[i]):\n",
    "            a.append(words[i])    \n",
    "    return a\n",
    "\n",
    "filter_long_words(['pythoon', 'numero', 'omae wa mou shinderu', 'chai biscuit'], 7)\n",
    "    "
   ]
  },
  {
   "cell_type": "code",
   "execution_count": 35,
   "metadata": {},
   "outputs": [
    {
     "data": {
      "text/plain": [
       "[5, 4, 6]"
      ]
     },
     "execution_count": 35,
     "metadata": {},
     "output_type": "execute_result"
    }
   ],
   "source": [
    "#task 2-2.1 Write a Python program using function concept that maps list of words into a list of integers representing the lengths of the corresponding words.\n",
    "m=[]\n",
    "def length_ofword(words):\n",
    "    for i in words:\n",
    "       m.append(len(i))\n",
    "    return m\n",
    "\n",
    "length_ofword(['bunty','beta','samjho'])"
   ]
  },
  {
   "cell_type": "code",
   "execution_count": 48,
   "metadata": {},
   "outputs": [
    {
     "data": {
      "text/plain": [
       "True"
      ]
     },
     "execution_count": 48,
     "metadata": {},
     "output_type": "execute_result"
    }
   ],
   "source": [
    "#task 2-2.2 Write a Python function which takes a character (i.e. a string of length 1) and returns True if it is a vowel, False otherwise.\n",
    "\n",
    "vow = ['a','e','i','o','u']\n",
    "def ifvowel(a):\n",
    "    if a in vow:\n",
    "        return True\n",
    "    return False\n",
    "\n",
    "ifvowel('i')\n"
   ]
  },
  {
   "cell_type": "code",
   "execution_count": null,
   "metadata": {},
   "outputs": [],
   "source": []
  }
 ],
 "metadata": {
  "kernelspec": {
   "display_name": "Python 3",
   "language": "python",
   "name": "python3"
  },
  "language_info": {
   "codemirror_mode": {
    "name": "ipython",
    "version": 3
   },
   "file_extension": ".py",
   "mimetype": "text/x-python",
   "name": "python",
   "nbconvert_exporter": "python",
   "pygments_lexer": "ipython3",
   "version": "3.7.6"
  }
 },
 "nbformat": 4,
 "nbformat_minor": 4
}
